{
 "cells": [
  {
   "cell_type": "markdown",
   "id": "f2361021",
   "metadata": {},
   "source": [
    "# 1D system birfurcation"
   ]
  },
  {
   "cell_type": "code",
   "execution_count": null,
   "id": "9c85283c",
   "metadata": {},
   "outputs": [],
   "source": [
    "import brainpy as bp"
   ]
  },
  {
   "cell_type": "markdown",
   "id": "86915883",
   "metadata": {},
   "source": [
    "## Codimension1"
   ]
  },
  {
   "cell_type": "markdown",
   "id": "97f2c95f",
   "metadata": {},
   "source": [
    "Here we will show the birfurcation analysis of 1D system with dummy test neuronal model.\n",
    "\n",
    "$$\\dot{x} = x^3-x + I$$\n",
    "\n",
    "First, let's define the model."
   ]
  },
  {
   "cell_type": "code",
   "execution_count": null,
   "id": "10be6438",
   "metadata": {},
   "outputs": [],
   "source": [
    "@bp.odeint\n",
    "def int_x(x, t, Iext):\n",
    "  dx = x ** 3 - x + Iext\n",
    "  return dx"
   ]
  },
  {
   "cell_type": "markdown",
   "id": "8c076505",
   "metadata": {},
   "source": []
  },
  {
   "cell_type": "code",
   "execution_count": null,
   "id": "8034fe84",
   "metadata": {},
   "outputs": [],
   "source": [
    "# analyzer = bp.symbolic.PhasePlane(int_x,\n",
    "#                                   target_vars={'x': [-10, 10]},\n",
    "#                                   pars_update={'Iext': 0.})\n",
    "# analyzer.plot_vector_field()\n",
    "# analyzer.plot_fixed_point(show=True)\n",
    "\n",
    "analyzer = bp.numeric.OldPhasePlane(int_x,\n",
    "                                    target_vars={'x': [-10, 10]},\n",
    "                                    pars_update={'Iext': 0.})\n",
    "analyzer.plot_vector_field()\n",
    "analyzer.plot_fixed_point(show=True)"
   ]
  },
  {
   "cell_type": "markdown",
   "id": "f66c3742",
   "metadata": {},
   "source": [
    "Then, create a bifurcation analyzer with ``bp.symbolic.Bifurcation``."
   ]
  },
  {
   "cell_type": "code",
   "execution_count": null,
   "id": "0e4f2dc7",
   "metadata": {},
   "outputs": [],
   "source": [
    "an = bp.symbolic.OldBifurcation(\n",
    "  int_x,\n",
    "  target_pars={'Iext': [-0.5, 0.5]},\n",
    "  target_vars={\"x\": [-2, 2]},\n",
    "  numerical_resolution=0.0001)\n",
    "\n",
    "_ = an.plot_bifurcation(show=True)"
   ]
  },
  {
   "cell_type": "markdown",
   "id": "aa267fc1",
   "metadata": {},
   "source": [
    "## Codimension2"
   ]
  },
  {
   "cell_type": "markdown",
   "id": "46df404e",
   "metadata": {},
   "source": [
    "Here we define the following 1D model for codimension 2 bifurcation testing.\n",
    "\n",
    "$$\\dot{x} = \\mu+ \\lambda x - x^3$$"
   ]
  },
  {
   "cell_type": "code",
   "execution_count": null,
   "id": "7c3159b8",
   "metadata": {},
   "outputs": [],
   "source": [
    "@bp.odeint\n",
    "def int_x(x, t, mu, lambda_):\n",
    "  dxdt = mu + lambda_ * x - x ** 3\n",
    "  return dxdt"
   ]
  },
  {
   "cell_type": "code",
   "execution_count": null,
   "id": "f30f6078",
   "metadata": {},
   "outputs": [],
   "source": [
    "# please install numba!=0.54.x, because they have bugs\n",
    "\n",
    "analyzer = bp.symbolic.OldBifurcation(\n",
    "  int_x,\n",
    "  target_pars={'mu': [-4, 4], 'lambda_': [-1, 4]},\n",
    "  target_vars={'x': [-3, 3]},\n",
    "  numerical_resolution=0.1)\n",
    "_ = analyzer.plot_bifurcation(show=True)"
   ]
  }
 ],
 "metadata": {
  "jupytext": {
   "formats": "ipynb,py:percent",
   "text_representation": {
    "extension": ".py",
    "format_name": "percent",
    "format_version": "1.3",
    "jupytext_version": "1.11.5"
   }
  },
  "kernelspec": {
   "display_name": "jax-cpu",
   "language": "python",
   "name": "jax-cpu"
  },
  "language_info": {
   "codemirror_mode": {
    "name": "ipython",
    "version": 3
   },
   "file_extension": ".py",
   "mimetype": "text/x-python",
   "name": "python",
   "nbconvert_exporter": "python",
   "pygments_lexer": "ipython3",
   "version": "3.9.7"
  },
  "latex_envs": {
   "LaTeX_envs_menu_present": true,
   "autoclose": false,
   "autocomplete": true,
   "bibliofile": "biblio.bib",
   "cite_by": "apalike",
   "current_citInitial": 1,
   "eqLabelWithNumbers": true,
   "eqNumInitial": 1,
   "hotkeys": {
    "equation": "Ctrl-E",
    "itemize": "Ctrl-I"
   },
   "labels_anchors": false,
   "latex_user_defs": false,
   "report_style_numbering": false,
   "user_envs_cfg": false
  },
  "toc": {
   "base_numbering": 1,
   "nav_menu": {},
   "number_sections": true,
   "sideBar": true,
   "skip_h1_title": false,
   "title_cell": "Table of Contents",
   "title_sidebar": "Contents",
   "toc_cell": false,
   "toc_position": {},
   "toc_section_display": true,
   "toc_window_display": false
  }
 },
 "nbformat": 4,
 "nbformat_minor": 5
}
